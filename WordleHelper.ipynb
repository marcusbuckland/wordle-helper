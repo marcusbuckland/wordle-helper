{
 "cells": [
  {
   "cell_type": "markdown",
   "metadata": {},
   "source": [
    "### Wordle Helper"
   ]
  },
  {
   "cell_type": "code",
   "execution_count": 1,
   "metadata": {},
   "outputs": [
    {
     "name": "stdout",
     "output_type": "stream",
     "text": [
      "title\n"
     ]
    }
   ],
   "source": [
    "with open('words.txt', 'r') as f:\n",
    "    words = f.read().split(\",\")\n",
    "    filtered = list(map(str.strip, words)) # Remove whitespace\n",
    "\n",
    "# Letters not in the word [incorrect_letter1, inorrect_letter2, ..]\n",
    "incorrect_letter = ['s', 'o', 'a', 'r', 'p', 'u', 'm', 'h']\n",
    "\n",
    "for letter in incorrect_letter:\n",
    "    filtered = list(filter(lambda x: letter not in x, filtered))\n",
    "\n",
    "# Letters in the word and at the correct index [(right_letter1, right_index1), ..]\n",
    "right_place = [('e', 4),\n",
    "               ('i', 1),\n",
    "               ('t', 2)]\n",
    "\n",
    "for letter, ix in right_place:\n",
    "    filtered = list(filter(lambda x: x[ix] == letter, filtered))\n",
    "\n",
    "# Letters in the word and list of the incorrect index(s) [(right_letter1, (wrong_index1, wrong_index2, ..)), ..]\n",
    "wrong_place = [\n",
    "    ('l', [0, 1])\n",
    "]\n",
    "\n",
    "for letter, ixs in wrong_place:\n",
    "    for ix in ixs:\n",
    "        filtered = list(filter(lambda x: x[ix] != letter and letter in x, filtered))\n",
    "\n",
    "for possible_word in filtered:\n",
    "    print(possible_word)"
   ]
  }
 ],
 "metadata": {
  "kernelspec": {
   "display_name": "base",
   "language": "python",
   "name": "python3"
  },
  "language_info": {
   "codemirror_mode": {
    "name": "ipython",
    "version": 3
   },
   "file_extension": ".py",
   "mimetype": "text/x-python",
   "name": "python",
   "nbconvert_exporter": "python",
   "pygments_lexer": "ipython3",
   "version": "3.11.5"
  }
 },
 "nbformat": 4,
 "nbformat_minor": 4
}
