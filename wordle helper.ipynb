{
 "cells": [
  {
   "cell_type": "markdown",
   "metadata": {},
   "source": [
    "### Wordle Helper"
   ]
  },
  {
   "cell_type": "code",
   "execution_count": 2,
   "metadata": {},
   "outputs": [],
   "source": [
    "f = open(\"all_words.txt\", \"r\")\n",
    "words = f.read().split(\",\")\n",
    "words = list(map(str.strip, words)) # Remove whitespace\n",
    "filtered = words.copy()"
   ]
  },
  {
   "cell_type": "code",
   "execution_count": 4,
   "metadata": {},
   "outputs": [
    {
     "name": "stdout",
     "output_type": "stream",
     "text": [
      "tiger\n",
      "tipsy\n",
      "timer\n"
     ]
    }
   ],
   "source": [
    "# Letters not in the word [wrong_letter1, wrong_letter2, ..]\n",
    "incorrect_letter = ['a', 'b', 'c', 'd']\n",
    "\n",
    "for letter in incorrect_letter:\n",
    "    filtered = list(filter(lambda x: letter not in x, filtered))\n",
    "\n",
    "# Letters in the word and at the correct index [(right_letter1, right_index1), ..]\n",
    "right_place = [\n",
    "    ('t', 0),\n",
    "    ('i', 1),\n",
    "]\n",
    "\n",
    "for letter, ix in (right_place):\n",
    "    filtered = list(filter(lambda x: x[ix] == letter, filtered))\n",
    "\n",
    "# Letters in the word and list of the incorrect index(s) [(right_letter1, (wrong_index1, wrong_index2, ..)), ..]\n",
    "wrong_place = [\n",
    "    ('e', [2, 4]),\n",
    "    ('t', [4]),\n",
    "]\n",
    "\n",
    "for letter, ixs in wrong_place:\n",
    "    for ix in ixs:\n",
    "        filtered = list(filter(lambda x: x[ix] != letter, filtered))\n",
    "\n",
    "for possible_word in filtered:\n",
    "    print(possible_word)"
   ]
  },
  {
   "cell_type": "markdown",
   "metadata": {},
   "source": [
    "### Wordle Cheater"
   ]
  },
  {
   "cell_type": "code",
   "execution_count": 5,
   "metadata": {},
   "outputs": [],
   "source": [
    "import datetime\n",
    "START_DATE = datetime.date(2021, 6, 20)\n",
    "\n",
    "def get_todays_word():\n",
    "    return words[(datetime.date.today() - START_DATE).days] "
   ]
  },
  {
   "cell_type": "code",
   "execution_count": 6,
   "metadata": {},
   "outputs": [
    {
     "data": {
      "text/plain": [
       "'tiger'"
      ]
     },
     "execution_count": 6,
     "metadata": {},
     "output_type": "execute_result"
    }
   ],
   "source": [
    "get_todays_word()"
   ]
  }
 ],
 "metadata": {
  "kernelspec": {
   "display_name": "Python 3 (ipykernel)",
   "language": "python",
   "name": "python3"
  },
  "language_info": {
   "codemirror_mode": {
    "name": "ipython",
    "version": 3
   },
   "file_extension": ".py",
   "mimetype": "text/x-python",
   "name": "python",
   "nbconvert_exporter": "python",
   "pygments_lexer": "ipython3",
   "version": "3.9.7"
  }
 },
 "nbformat": 4,
 "nbformat_minor": 4
}
